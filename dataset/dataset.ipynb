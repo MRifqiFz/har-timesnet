{
 "cells": [
  {
   "cell_type": "code",
   "execution_count": 3,
   "metadata": {},
   "outputs": [
    {
     "name": "stdout",
     "output_type": "stream",
     "text": [
      "[[ 1.808515e-04  1.013856e-02  9.275574e-03 ... -1.147484e-03\n",
      "  -2.222655e-04  1.575500e-03]\n",
      " [ 1.093752e-03  4.550077e-03  2.879173e-03 ... -4.646144e-03\n",
      "  -2.941333e-03 -1.598751e-03]\n",
      " [ 3.531266e-03  2.285063e-03 -4.197538e-04 ...  1.245999e-03\n",
      "   3.116783e-03  2.177658e-03]\n",
      " ...\n",
      " [-2.267175e-01 -1.778169e-01 -1.508691e-01 ... -2.949353e-01\n",
      "  -2.434030e-01 -2.152148e-01]\n",
      " [-6.480597e-02 -7.993300e-02 -6.834966e-02 ... -3.150159e-01\n",
      "  -3.307374e-01 -2.723475e-01]\n",
      " [-1.944707e-01 -1.738025e-01 -1.275446e-01 ... -7.190685e-02\n",
      "  -1.422088e-01 -1.709989e-01]]\n"
     ]
    }
   ],
   "source": [
    "import numpy as np\n",
    "\n",
    "# Replace 'your_file.txt' with the path to your text file\n",
    "data = np.loadtxt('UCI-HAR-Dataset/UCI HAR Dataset/train/Inertial Signals/body_acc_x_train.txt')\n",
    "\n",
    "print(data)"
   ]
  },
  {
   "cell_type": "code",
   "execution_count": 5,
   "metadata": {},
   "outputs": [
    {
     "data": {
      "text/plain": [
       "(7352, 128)"
      ]
     },
     "execution_count": 5,
     "metadata": {},
     "output_type": "execute_result"
    }
   ],
   "source": [
    "data.shape"
   ]
  },
  {
   "cell_type": "code",
   "execution_count": null,
   "metadata": {},
   "outputs": [],
   "source": []
  }
 ],
 "metadata": {
  "kernelspec": {
   "display_name": "py310",
   "language": "python",
   "name": "python3"
  },
  "language_info": {
   "codemirror_mode": {
    "name": "ipython",
    "version": 3
   },
   "file_extension": ".py",
   "mimetype": "text/x-python",
   "name": "python",
   "nbconvert_exporter": "python",
   "pygments_lexer": "ipython3",
   "version": "3.10.14"
  }
 },
 "nbformat": 4,
 "nbformat_minor": 2
}
